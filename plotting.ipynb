{
  "cells": [
    {
      "cell_type": "markdown",
      "source": [
        "### 1. Load data"
      ],
      "metadata": {
        "nteract": {
          "transient": {
            "deleting": false
          }
        }
      }
    },
    {
      "cell_type": "code",
      "source": [
        "library(tidyverse)\n",
        "options(repr.plot.width=8, repr.plot.height=4)\n",
        "\n",
        "summary <- read_csv(\"gating/summary.csv\") # load summary data\n",
        "meta <- read_csv(\"metadata.txt\") # load metadata"
      ],
      "outputs": [],
      "execution_count": null,
      "metadata": {
        "collapsed": false,
        "jupyter": {
          "source_hidden": false,
          "outputs_hidden": false
        },
        "nteract": {
          "transient": {
            "deleting": false
          }
        },
        "execution": {
          "iopub.status.busy": "2020-03-20T00:15:06.203Z",
          "iopub.execute_input": "2020-03-20T00:15:06.207Z",
          "shell.execute_reply": "2020-03-20T00:15:06.239Z",
          "iopub.status.idle": "2020-03-20T00:15:06.246Z"
        }
      }
    },
    {
      "cell_type": "markdown",
      "source": [
        "### 2. Convert metadata"
      ],
      "metadata": {
        "nteract": {
          "transient": {
            "deleting": false
          }
        }
      }
    },
    {
      "cell_type": "code",
      "source": [
        "label <- matrix(unlist(list(strsplit(meta$label, split=\" \"))), ncol=3, byrow=T) # parse label\n",
        "meta$treatment <- label[,1]\n",
        "meta$timepoint <- label[,2]\n",
        "meta$replicate <- label[,3]\n",
        "\n",
        "meta$file <- paste0(meta$sample,\".fcs\") # format  sample name to filename (.fcs)"
      ],
      "outputs": [],
      "execution_count": null,
      "metadata": {
        "collapsed": false,
        "jupyter": {
          "source_hidden": false,
          "outputs_hidden": false
        },
        "nteract": {
          "transient": {
            "deleting": false
          }
        },
        "execution": {
          "iopub.status.busy": "2020-03-20T00:15:13.260Z",
          "iopub.execute_input": "2020-03-20T00:15:13.263Z",
          "shell.execute_reply": "2020-03-20T00:15:13.300Z",
          "iopub.status.idle": "2020-03-20T00:15:13.294Z"
        }
      }
    },
    {
      "cell_type": "markdown",
      "source": [
        "### 3. Add metadata to summary data"
      ],
      "metadata": {
        "nteract": {
          "transient": {
            "deleting": false
          }
        }
      }
    },
    {
      "cell_type": "code",
      "source": [
        "all <- merge(summary, meta, by=\"file\")\n",
        "all$abundance <- all$n * all$volume # calculate cell abundance (cells/microliter)"
      ],
      "outputs": [],
      "execution_count": null,
      "metadata": {
        "collapsed": false,
        "jupyter": {
          "source_hidden": false,
          "outputs_hidden": false
        },
        "nteract": {
          "transient": {
            "deleting": false
          }
        },
        "execution": {
          "iopub.status.busy": "2020-03-19T23:20:40.567Z",
          "iopub.execute_input": "2020-03-19T23:20:40.570Z",
          "iopub.status.idle": "2020-03-19T23:20:40.574Z",
          "shell.execute_reply": "2020-03-19T23:20:40.576Z"
        }
      }
    },
    {
      "cell_type": "markdown",
      "source": [
        "### 4. Plotting\n",
        "#### a. Abundance"
      ],
      "metadata": {
        "nteract": {
          "transient": {
            "deleting": false
          }
        }
      }
    },
    {
      "cell_type": "code",
      "source": [
        "all %>%\n",
        "    filter(population != \"unknown\" & population != \"beads\") %>%\n",
        "    group_by(timepoint, population, treatment) %>%\n",
        "    summarize(sd = sd(abundance),\n",
        "              avg=mean(abundance)) %>%\n",
        "    ggplot(aes(timepoint, avg, col=treatment)) +\n",
        "    geom_linerange(aes(ymin=avg-sd, ymax=avg+sd)) +\n",
        "    geom_point() +\n",
        "    facet_grid(population ~ ., scale=\"free_y\") + \n",
        "    theme_bw() +\n",
        "    ylab(\"Abundance (cells uL-1)\")"
      ],
      "outputs": [],
      "execution_count": null,
      "metadata": {
        "collapsed": false,
        "jupyter": {
          "source_hidden": false,
          "outputs_hidden": false
        },
        "nteract": {
          "transient": {
            "deleting": false
          }
        },
        "execution": {
          "iopub.status.busy": "2020-03-20T00:15:39.318Z",
          "iopub.execute_input": "2020-03-20T00:15:39.322Z",
          "shell.execute_reply": "2020-03-20T00:15:39.692Z",
          "iopub.status.idle": "2020-03-20T00:15:39.682Z"
        }
      }
    },
    {
      "cell_type": "markdown",
      "source": [
        "#### b. Scatter"
      ],
      "metadata": {
        "nteract": {
          "transient": {
            "deleting": false
          }
        }
      }
    },
    {
      "cell_type": "code",
      "source": [
        "all %>%\n",
        "    filter(population != \"unknown\" & population != \"beads\") %>%\n",
        "    group_by(timepoint, population, treatment) %>%\n",
        "    summarize(sd = sd(scatter),\n",
        "              avg=mean(scatter)) %>%\n",
        "    ggplot(aes(timepoint, avg, col=treatment)) +\n",
        "    geom_linerange(aes(ymin=avg-sd, ymax=avg+sd)) +\n",
        "    geom_point() +\n",
        "    facet_grid(population ~ ., scale=\"free_y\") + \n",
        "    theme_bw() +\n",
        "    ylab(\"Scatter (normalized to beads)\")"
      ],
      "outputs": [],
      "execution_count": null,
      "metadata": {
        "collapsed": false,
        "jupyter": {
          "source_hidden": false,
          "outputs_hidden": false
        },
        "nteract": {
          "transient": {
            "deleting": false
          }
        },
        "execution": {
          "iopub.status.busy": "2020-03-20T00:15:43.794Z",
          "iopub.execute_input": "2020-03-20T00:15:43.798Z",
          "iopub.status.idle": "2020-03-20T00:15:44.316Z",
          "shell.execute_reply": "2020-03-20T00:15:44.326Z"
        }
      }
    },
    {
      "cell_type": "markdown",
      "source": [
        "#### c. Red fluorescence"
      ],
      "metadata": {
        "nteract": {
          "transient": {
            "deleting": false
          }
        }
      }
    },
    {
      "cell_type": "code",
      "source": [
        "all %>%\n",
        "    filter(population != \"unknown\" & population != \"beads\") %>%\n",
        "    group_by(timepoint, population, treatment) %>%\n",
        "    summarize(sd = sd(red),\n",
        "              avg=mean(red)) %>%\n",
        "    ggplot(aes(timepoint, avg, col=treatment)) +\n",
        "    geom_linerange(aes(ymin=avg-sd, ymax=avg+sd)) +\n",
        "    geom_point() +\n",
        "    facet_grid(population ~ ., scale=\"free_y\") + \n",
        "    theme_bw() +\n",
        "    ylab(\"Red fluo (normalized to beads)\")"
      ],
      "outputs": [],
      "execution_count": null,
      "metadata": {
        "collapsed": false,
        "jupyter": {
          "source_hidden": false,
          "outputs_hidden": false
        },
        "nteract": {
          "transient": {
            "deleting": false
          }
        },
        "execution": {
          "iopub.status.busy": "2020-03-20T00:15:46.896Z",
          "iopub.execute_input": "2020-03-20T00:15:46.902Z",
          "iopub.status.idle": "2020-03-20T00:15:47.401Z",
          "shell.execute_reply": "2020-03-20T00:15:47.408Z"
        }
      }
    }
  ],
  "metadata": {
    "kernel_info": {
      "name": "ir"
    },
    "language_info": {
      "name": "R",
      "codemirror_mode": "r",
      "pygments_lexer": "r",
      "mimetype": "text/x-r-source",
      "file_extension": ".r",
      "version": "3.6.0"
    },
    "kernelspec": {
      "argv": [
        "/Library/Frameworks/R.framework/Resources/bin/R",
        "--slave",
        "-e",
        "IRkernel::main()",
        "--args",
        "{connection_file}"
      ],
      "display_name": "R",
      "language": "R",
      "name": "ir"
    },
    "nteract": {
      "version": "0.22.0"
    }
  },
  "nbformat": 4,
  "nbformat_minor": 0
}
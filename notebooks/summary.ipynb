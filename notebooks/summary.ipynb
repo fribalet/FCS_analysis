{
  "cells": [
    {
      "cell_type": "code",
      "source": [
        "# install.packages(\"tidyverse\")"
      ],
      "outputs": [],
      "execution_count": null,
      "metadata": {
        "collapsed": false,
        "jupyter": {
          "source_hidden": false,
          "outputs_hidden": false
        },
        "nteract": {
          "transient": {
            "deleting": false
          }
        }
      }
    },
    {
      "cell_type": "markdown",
      "source": [
        "### 1. Load data"
      ],
      "metadata": {
        "colab_type": "text",
        "id": "3KLZRfx5uR55",
        "nteract": {
          "transient": {
            "deleting": false
          }
        }
      }
    },
    {
      "cell_type": "code",
      "source": [
        "library(tidyverse)\n",
        "library(readxl)\n",
        "options(repr.plot.width=8, repr.plot.height=6)\n",
        "\n",
        "path <- list.files(\".\", pattern=\".xlsx\")\n",
        "all <- read_excel(path, sheet=1) # load summary data"
      ],
      "outputs": [],
      "execution_count": null,
      "metadata": {
        "colab": {
          "base_uri": "https://localhost:8080/",
          "height": 453
        },
        "colab_type": "code",
        "execution": {
          "iopub.execute_input": "2020-04-05T00:31:50.130Z",
          "iopub.status.busy": "2020-04-05T00:31:50.124Z",
          "iopub.status.idle": "2020-04-05T00:31:50.233Z",
          "shell.execute_reply": "2020-04-05T00:31:50.227Z"
        },
        "executionInfo": {
          "elapsed": 2004,
          "status": "error",
          "timestamp": 1585157079613,
          "user": {
            "displayName": "Francois Ribalet",
            "photoUrl": "https://lh3.googleusercontent.com/a-/AOh14Gg7LmzpHo58DLH4zkaee2AfxvqClKqqQU8SXRx9jA=s64",
            "userId": "05121062961591501580"
          },
          "user_tz": 420
        },
        "id": "1qaXTKVJuR58",
        "jupyter": {
          "outputs_hidden": false,
          "source_hidden": false
        },
        "nteract": {
          "transient": {
            "deleting": false
          }
        },
        "outputId": "2b2c5320-bc84-47b2-bf9f-16193b95f01c"
      }
    },
    {
      "cell_type": "markdown",
      "source": [
        "### 2. Plotting\n",
        "#### a. Abundance"
      ],
      "metadata": {
        "colab_type": "text",
        "id": "y8w-JjRbuR6K",
        "nteract": {
          "transient": {
            "deleting": false
          }
        }
      }
    },
    {
      "cell_type": "code",
      "source": [
        "all %>%\n",
        "    filter(population != \"unknown\" & population != \"beads\") %>%\n",
        "    group_by(treatment, experiments, population) %>%\n",
        "    summarize(sd=sd(abundance),\n",
        "              avg=mean(abundance)) %>%\n",
        "    ggplot(aes(experiments, avg, group=treatment, fill=treatment)) +\n",
        "    geom_bar(stat=\"identity\", position=position_dodge()) +\n",
        "    facet_grid(population ~ ., scale=\"free_y\") + \n",
        "    theme_bw() +\n",
        "    ylab(\"Abundance (cells uL-1)\")"
      ],
      "outputs": [],
      "execution_count": null,
      "metadata": {
        "colab": {},
        "colab_type": "code",
        "execution": {
          "iopub.execute_input": "2020-04-05T00:31:55.748Z",
          "iopub.status.busy": "2020-04-05T00:31:55.737Z",
          "iopub.status.idle": "2020-04-05T00:31:56.661Z",
          "shell.execute_reply": "2020-04-05T00:31:56.678Z"
        },
        "id": "Ba2-Ep4juR6L",
        "jupyter": {
          "outputs_hidden": false,
          "source_hidden": false
        },
        "nteract": {
          "transient": {
            "deleting": false
          }
        },
        "outputId": "b2d72570-6df6-415b-863f-8c79b8928390"
      }
    },
    {
      "cell_type": "markdown",
      "source": [
        "#### b. Scatter"
      ],
      "metadata": {
        "colab_type": "text",
        "id": "pvc4ePAHuR6P",
        "nteract": {
          "transient": {
            "deleting": false
          }
        }
      }
    },
    {
      "cell_type": "code",
      "source": [
        "all %>%\n",
        "    filter(population != \"unknown\" & population != \"beads\") %>%\n",
        "    group_by(treatment, experiments, population) %>%\n",
        "    summarize(sd=sd(scatter),\n",
        "              avg=mean(scatter)) %>%\n",
        "    ggplot(aes(experiments, avg, group=treatment, fill=treatment)) +\n",
        "    geom_bar(stat=\"identity\", position=position_dodge()) +\n",
        "    facet_grid(population ~ ., scale=\"free_y\") + \n",
        "    theme_bw() +\n",
        "    ylab(\"Scatter (normalized to beads)\")"
      ],
      "outputs": [],
      "execution_count": null,
      "metadata": {
        "colab": {},
        "colab_type": "code",
        "execution": {
          "iopub.execute_input": "2020-04-05T00:32:00.224Z",
          "iopub.status.busy": "2020-04-05T00:32:00.217Z",
          "iopub.status.idle": "2020-04-05T00:32:01.194Z",
          "shell.execute_reply": "2020-04-05T00:32:01.210Z"
        },
        "id": "5yTaY8equR6Q",
        "jupyter": {
          "outputs_hidden": false,
          "source_hidden": false
        },
        "nteract": {
          "transient": {
            "deleting": false
          }
        },
        "outputId": "d32c04f6-5fb5-497d-8d3d-a36216931cb0"
      }
    },
    {
      "cell_type": "markdown",
      "source": [
        "#### c. Red fluorescence"
      ],
      "metadata": {
        "colab_type": "text",
        "id": "XFGg1mluuR6U",
        "nteract": {
          "transient": {
            "deleting": false
          }
        }
      }
    },
    {
      "cell_type": "code",
      "source": [
        "all %>%\n",
        "    filter(population != \"unknown\" & population != \"beads\") %>%\n",
        "    group_by(treatment, experiments, population) %>%\n",
        "    summarize(sd=sd(red),\n",
        "              avg=mean(red)) %>%\n",
        "    ggplot(aes(experiments, avg, group=treatment, fill=treatment)) +\n",
        "    geom_bar(stat=\"identity\", position=position_dodge()) +\n",
        "    facet_grid(population ~ ., scale=\"free_y\") + \n",
        "    theme_bw() +\n",
        "\n",
        "    ylab(\"Red fluo (normalized to beads)\")"
      ],
      "outputs": [],
      "execution_count": null,
      "metadata": {
        "colab": {},
        "colab_type": "code",
        "execution": {
          "iopub.execute_input": "2020-04-05T00:32:03.724Z",
          "iopub.status.busy": "2020-04-05T00:32:03.716Z",
          "iopub.status.idle": "2020-04-05T00:32:04.299Z",
          "shell.execute_reply": "2020-04-05T00:32:04.310Z"
        },
        "id": "iG0BfN9NuR6V",
        "jupyter": {
          "outputs_hidden": false,
          "source_hidden": false
        },
        "nteract": {
          "transient": {
            "deleting": false
          }
        },
        "outputId": "6ad7ee93-e125-4d0a-ed51-6d85174e7e4f"
      }
    },
    {
      "cell_type": "markdown",
      "source": [
        "#### d. Orange fluorescence"
      ],
      "metadata": {
        "nteract": {
          "transient": {
            "deleting": false
          }
        }
      }
    },
    {
      "cell_type": "code",
      "source": [
        "all %>%\n",
        "    filter(population != \"unknown\" & population != \"beads\") %>%\n",
        "    group_by(treatment, experiments, population) %>%\n",
        "    summarize(sd=sd(orange),\n",
        "              avg=mean(orange)) %>%\n",
        "    ggplot(aes(experiments, avg, group=treatment, fill=treatment)) +\n",
        "    geom_bar(stat=\"identity\", position=position_dodge()) +\n",
        "    facet_grid(population ~ ., scale=\"free_y\") + \n",
        "    theme_bw() +\n",
        "    ylab(\"Orange fluo (normalized to beads)\")"
      ],
      "outputs": [],
      "execution_count": null,
      "metadata": {
        "collapsed": false,
        "jupyter": {
          "source_hidden": false,
          "outputs_hidden": false
        },
        "nteract": {
          "transient": {
            "deleting": false
          }
        },
        "execution": {
          "iopub.status.busy": "2020-04-05T00:32:07.444Z",
          "iopub.execute_input": "2020-04-05T00:32:07.449Z",
          "iopub.status.idle": "2020-04-05T00:32:08.131Z",
          "shell.execute_reply": "2020-04-05T00:32:08.142Z"
        }
      }
    },
    {
      "cell_type": "markdown",
      "source": [
        "#### e. Red fluorescence, normalized to scatter"
      ],
      "metadata": {
        "nteract": {
          "transient": {
            "deleting": false
          }
        }
      }
    },
    {
      "cell_type": "code",
      "source": [
        "all %>%\n",
        "    filter(population != \"unknown\" & population != \"beads\") %>%\n",
        "    group_by(treatment, experiments, population) %>%\n",
        "    summarize(sd=sd(red/scatter),\n",
        "              avg=mean(red/scatter)) %>%\n",
        "    ggplot(aes(experiments, avg, group=treatment, fill=treatment)) +\n",
        "    geom_bar(stat=\"identity\", position=position_dodge()) +\n",
        "    facet_grid(population ~ ., scale=\"free_y\") + \n",
        "    theme_bw() +\n",
        "    ylab(\"Red fluo (normalized to scatter)\")"
      ],
      "outputs": [],
      "execution_count": null,
      "metadata": {
        "collapsed": false,
        "jupyter": {
          "source_hidden": false,
          "outputs_hidden": false
        },
        "nteract": {
          "transient": {
            "deleting": false
          }
        },
        "execution": {
          "iopub.status.busy": "2020-04-05T00:32:10.461Z",
          "iopub.execute_input": "2020-04-05T00:32:10.469Z",
          "iopub.status.idle": "2020-04-05T00:32:11.251Z",
          "shell.execute_reply": "2020-04-05T00:32:11.262Z"
        }
      }
    },
    {
      "cell_type": "markdown",
      "source": [
        "#### f. Orange fluorescence, normalized to scatter"
      ],
      "metadata": {
        "nteract": {
          "transient": {
            "deleting": false
          }
        }
      }
    },
    {
      "cell_type": "code",
      "source": [
        "all %>%\n",
        "    filter(population != \"unknown\" & population != \"beads\") %>%\n",
        "    group_by(treatment, experiments, population) %>%\n",
        "    summarize(sd=sd(orange/scatter),\n",
        "              avg=mean(orange/scatter)) %>%\n",
        "    ggplot(aes(experiments, avg, group=treatment, fill=treatment)) +\n",
        "    geom_bar(stat=\"identity\", position=position_dodge()) +\n",
        "    facet_grid(population ~ ., scale=\"free_y\") + \n",
        "    theme_bw() +\n",
        "    ylab(\"Orange fluo (normalized to scatter)\")"
      ],
      "outputs": [],
      "execution_count": null,
      "metadata": {
        "collapsed": false,
        "jupyter": {
          "source_hidden": false,
          "outputs_hidden": false
        },
        "nteract": {
          "transient": {
            "deleting": false
          }
        },
        "execution": {
          "iopub.status.busy": "2020-04-05T00:32:13.089Z",
          "iopub.execute_input": "2020-04-05T00:32:13.094Z",
          "iopub.status.idle": "2020-04-05T00:32:13.759Z",
          "shell.execute_reply": "2020-04-05T00:32:13.768Z"
        }
      }
    }
  ],
  "metadata": {
    "colab": {
      "name": "plotting.ipynb",
      "provenance": []
    },
    "kernel_info": {
      "name": "ir"
    },
    "kernelspec": {
      "display_name": "R",
      "language": "R",
      "name": "ir"
    },
    "language_info": {
      "name": "R",
      "codemirror_mode": "r",
      "pygments_lexer": "r",
      "mimetype": "text/x-r-source",
      "file_extension": ".r",
      "version": "3.6.0"
    },
    "nteract": {
      "version": "0.22.0"
    }
  },
  "nbformat": 4,
  "nbformat_minor": 1
}
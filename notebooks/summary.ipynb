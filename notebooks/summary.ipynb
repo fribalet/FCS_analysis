{
  "cells": [
    {
      "cell_type": "code",
      "source": [
        "# install.packages(\"tidyverse\")"
      ],
      "outputs": [],
      "execution_count": null,
      "metadata": {
        "collapsed": false,
        "jupyter": {
          "source_hidden": false,
          "outputs_hidden": false
        },
        "nteract": {
          "transient": {
            "deleting": false
          }
        }
      }
    },
    {
      "cell_type": "code",
      "source": [
        "library(tidyverse)\n",
        "library(readxl)"
      ],
      "outputs": [],
      "execution_count": null,
      "metadata": {
        "colab": {
          "base_uri": "https://localhost:8080/",
          "height": 453
        },
        "colab_type": "code",
        "execution": {
          "iopub.execute_input": "2020-04-05T00:31:50.130Z",
          "iopub.status.busy": "2020-04-05T00:31:50.124Z",
          "iopub.status.idle": "2020-04-05T00:31:50.233Z",
          "shell.execute_reply": "2020-04-05T00:31:50.227Z"
        },
        "executionInfo": {
          "elapsed": 2004,
          "status": "error",
          "timestamp": 1585157079613,
          "user": {
            "displayName": "Francois Ribalet",
            "photoUrl": "https://lh3.googleusercontent.com/a-/AOh14Gg7LmzpHo58DLH4zkaee2AfxvqClKqqQU8SXRx9jA=s64",
            "userId": "05121062961591501580"
          },
          "user_tz": 420
        },
        "id": "1qaXTKVJuR58",
        "jupyter": {
          "outputs_hidden": false,
          "source_hidden": false
        },
        "nteract": {
          "transient": {
            "deleting": false
          }
        },
        "outputId": "2b2c5320-bc84-47b2-bf9f-16193b95f01c"
      }
    },
    {
      "cell_type": "markdown",
      "source": [
        "### 1. Load data"
      ],
      "metadata": {
        "colab_type": "text",
        "id": "3KLZRfx5uR55",
        "nteract": {
          "transient": {
            "deleting": false
          }
        }
      }
    },
    {
      "cell_type": "code",
      "source": [
        "options(repr.plot.width=8, repr.plot.height=6)\n",
        "\n",
        "path <- list.files(\"/PATH_TO_PROJECT/\", pattern=\".xlsx\")\n",
        "all <- read_excel(path, sheet=1) # load summary data\n",
        "\n",
        "all[1:3,] #preview first few ilnes of data"
      ],
      "outputs": [],
      "execution_count": null,
      "metadata": {
        "collapsed": true,
        "jupyter": {
          "source_hidden": false,
          "outputs_hidden": false
        },
        "nteract": {
          "transient": {
            "deleting": false
          }
        }
      }
    },
    {
      "cell_type": "markdown",
      "source": [
        "### 2. Pivot data from wide format to long"
      ],
      "metadata": {
        "nteract": {
          "transient": {
            "deleting": false
          }
        }
      }
    },
    {
      "cell_type": "code",
      "source": [
        "# Excel spreadsheet data is in wide format, as requested by CMAP\n",
        "# Pivot wide format data to long format for easier plotting\n",
        "\n",
        "red <- summary %>%\n",
        "  pivot_longer(\n",
        "  cols = starts_with(\"red_\"),\n",
        "  names_to = \"population\",\n",
        "  names_prefix = \"red_\",\n",
        "  values_to = \"red\",\n",
        "  values_drop_na = TRUE\n",
        "  ) %>%\n",
        "  select(time, file, lat, lon, depth, dilution, population, red, replicate, flag)\n",
        "\n",
        "orange <- summary %>%\n",
        "  pivot_longer(\n",
        "  cols = starts_with(\"orange_\"),\n",
        "  names_to = \"population\",\n",
        "  names_prefix = \"orange_\",\n",
        "  values_to = \"orange\",\n",
        "  values_drop_na = TRUE\n",
        "  ) %>%\n",
        "  select(time, file, lat, lon, depth, dilution, population, orange, replicate, flag)\n",
        "\n",
        "abundance <- summary %>%\n",
        "  pivot_longer(\n",
        "  cols = starts_with(\"abundance_\"),\n",
        "  names_to = \"population\",\n",
        "  names_prefix = \"abundance_\",\n",
        "  values_to = \"abundance\",\n",
        "  values_drop_na = TRUE\n",
        "  ) %>%\n",
        "  select(time, file, lat, lon, depth, dilution, population, abundance, replicate, flag)\n",
        "\n",
        "scatter <- summary %>%\n",
        "  pivot_longer(\n",
        "  cols = starts_with(\"scatter_\"),\n",
        "  names_to = \"population\",\n",
        "  names_prefix = \"scatter_\",\n",
        "  values_to = \"scatter\",\n",
        "  values_drop_na = TRUE\n",
        "  ) %>%\n",
        "  select(time, file, lat, lon, depth, dilution, population, scatter, replicate, flag)\n",
        "\n",
        "diam <- summary %>%\n",
        "  pivot_longer(\n",
        "  cols = starts_with(\"cell_diameter_\"),\n",
        "  names_to = \"population\",\n",
        "  names_prefix = \"cell_diameter_\",\n",
        "  values_to = \"cell_diameter\",\n",
        "  values_drop_na = TRUE\n",
        "  ) %>%\n",
        "  select(time, file, lat, lon, depth, dilution, population, cell_diameter, replicate, flag)\n",
        "\n",
        "Qc <- summary %>%\n",
        "  pivot_longer(\n",
        "  cols = starts_with(\"carbon_content_\"),\n",
        "  names_to = \"population\",\n",
        "  names_prefix = \"carbon_content_\",\n",
        "  values_to = \"carbon_content\",\n",
        "  values_drop_na = TRUE\n",
        "  ) %>%\n",
        "  select(time, file, lat, lon, depth, dilution, population, carbon_content, replicate, flag)\n",
        "\n",
        "biomass <- summary %>%\n",
        "  pivot_longer(\n",
        "  cols = starts_with(\"biomass_\"),\n",
        "  names_to = \"population\",\n",
        "  names_prefix = \"biomass_\",\n",
        "  values_to = \"biomass\",\n",
        "  values_drop_na = TRUE\n",
        "  ) %>%\n",
        "  select(time, file, lat, lon, depth, dilution, population, biomass, replicate, flag)\n",
        "\n",
        "fluor <- merge(red, orange, all = TRUE) #merge red and orange fluorescence data\n",
        "cell <- merge(abundance, scatter, all = TRUE) #merge abundanace and scatter\n",
        "merge <- merge(fluor, cell, all = TRUE) #merge fluor data with cell data\n",
        "\n",
        "mie <- merge(diam, Qc, all = TRUE) #merge Qc and cell size data which you get from mie theory\n",
        "mie2 <- merge(mie, biomass, all = TRUE) #merge mie theory data with biomass \n",
        "\n",
        "\n",
        "all <- merge(merge, mie2, all = TRUE) #merge all long data into a single dataframe"
      ],
      "outputs": [],
      "execution_count": null,
      "metadata": {
        "collapsed": true,
        "jupyter": {
          "source_hidden": false,
          "outputs_hidden": false
        },
        "nteract": {
          "transient": {
            "deleting": false
          }
        }
      }
    },
    {
      "cell_type": "code",
      "source": [
        "all[1:3,]"
      ],
      "outputs": [],
      "execution_count": null,
      "metadata": {
        "collapsed": true,
        "jupyter": {
          "source_hidden": false,
          "outputs_hidden": false
        },
        "nteract": {
          "transient": {
            "deleting": false
          }
        }
      }
    },
    {
      "cell_type": "markdown",
      "source": [
        "### 3. Plotting\n",
        "#### a. Abundance plots\n",
        "##### i. Surface abundance"
      ],
      "metadata": {
        "colab_type": "text",
        "id": "y8w-JjRbuR6K",
        "nteract": {
          "transient": {
            "deleting": false
          }
        }
      }
    },
    {
      "cell_type": "code",
      "source": [
        "all %>%\n",
        "    dplyr::filter(population != \"beads\" & population != \"unknown\" & depth < 20) %>%\n",
        "    dplyr::group_by(lat, population) %>%\n",
        "    dplyr::summarize(sd = sd(abundance),\n",
        "              avg=mean(abundance)) %>%\n",
        "    ggplot(aes(lat, avg, col=population)) +\n",
        "    geom_errorbar(aes(ymin=avg-sd, ymax=avg+sd), color = \"black\",  size = .3, width=.1) +\n",
        "    geom_point(size=3) +\n",
        "    facet_grid(population ~ ., scale=\"free_y\") + \n",
        "    theme_bw() +\n",
        "    ylab(\"Abundance (cells uL-1)\")"
      ],
      "outputs": [],
      "execution_count": null,
      "metadata": {
        "colab": {},
        "colab_type": "code",
        "execution": {
          "iopub.execute_input": "2020-04-05T00:31:55.748Z",
          "iopub.status.busy": "2020-04-05T00:31:55.737Z",
          "iopub.status.idle": "2020-04-05T00:31:56.661Z",
          "shell.execute_reply": "2020-04-05T00:31:56.678Z"
        },
        "id": "Ba2-Ep4juR6L",
        "jupyter": {
          "outputs_hidden": false,
          "source_hidden": false
        },
        "nteract": {
          "transient": {
            "deleting": false
          }
        },
        "outputId": "b2d72570-6df6-415b-863f-8c79b8928390"
      }
    },
    {
      "cell_type": "markdown",
      "source": [
        "##### ii. Abundance depth profile"
      ],
      "metadata": {
        "nteract": {
          "transient": {
            "deleting": false
          }
        }
      }
    },
    {
      "cell_type": "code",
      "source": [
        "all %>%\n",
        "    dplyr::filter(population != \"beads\" & population != \"unknown\") %>%\n",
        "    dplyr::group_by(lat, depth, population) %>%\n",
        "    dplyr::summarize(avg=mean(abundance)) %>%\n",
        "    ggplot(aes(lat, -depth)) + \n",
        "    geom_point(aes(colour=avg), size=4) + \n",
        "    viridis::scale_colour_viridis(name=\"Abundance (cells uL-1)\",option =\"D\") +\n",
        "    facet_grid(population ~ .) + \n",
        "    theme_bw() +\n",
        "    xlab(\"Latitude\") + \n",
        "    ylab(\"Depth (m)\")"
      ],
      "outputs": [],
      "execution_count": null,
      "metadata": {
        "collapsed": true,
        "jupyter": {
          "source_hidden": false,
          "outputs_hidden": false
        },
        "nteract": {
          "transient": {
            "deleting": false
          }
        }
      }
    },
    {
      "cell_type": "markdown",
      "source": [
        "#### b. Scatter plots\n",
        "##### i. Surface scatter"
      ],
      "metadata": {
        "colab_type": "text",
        "id": "pvc4ePAHuR6P",
        "nteract": {
          "transient": {
            "deleting": false
          }
        }
      }
    },
    {
      "cell_type": "code",
      "source": [
        "all %>%\n",
        "    dplyr::filter(population != \"beads\" & population != \"unknown\" & depth < 20) %>%\n",
        "    dplyr::group_by(lat, population) %>%\n",
        "    dplyr::summarize(sd = sd(scatter),\n",
        "              avg=mean(scatter)) %>%\n",
        "    ggplot(aes(lat, avg, col=population)) +\n",
        "    geom_errorbar(aes(ymin=avg-sd, ymax=avg+sd), color = \"black\",  size = .3, width=.1) +\n",
        "    geom_point(size=3) +\n",
        "    facet_grid(population ~ ., scale=\"free_y\") + \n",
        "    theme_bw() +\n",
        "    ylab(\"Scatter (normalized to beads)\")"
      ],
      "outputs": [],
      "execution_count": null,
      "metadata": {
        "colab": {},
        "colab_type": "code",
        "execution": {
          "iopub.execute_input": "2020-04-05T00:32:00.224Z",
          "iopub.status.busy": "2020-04-05T00:32:00.217Z",
          "iopub.status.idle": "2020-04-05T00:32:01.194Z",
          "shell.execute_reply": "2020-04-05T00:32:01.210Z"
        },
        "id": "5yTaY8equR6Q",
        "jupyter": {
          "outputs_hidden": false,
          "source_hidden": false
        },
        "nteract": {
          "transient": {
            "deleting": false
          }
        },
        "outputId": "d32c04f6-5fb5-497d-8d3d-a36216931cb0"
      }
    },
    {
      "cell_type": "markdown",
      "source": [
        "##### ii. Scatter depth profile"
      ],
      "metadata": {
        "nteract": {
          "transient": {
            "deleting": false
          }
        }
      }
    },
    {
      "cell_type": "code",
      "source": [
        "all %>%\n",
        "    dplyr::filter(population != \"beads\" & population != \"unknown\") %>%\n",
        "    dplyr::group_by(lat, depth, dilution, population) %>%\n",
        "    dplyr::summarize(avg=mean(scatter)) %>%\n",
        "    ggplot(aes(lat, -depth)) + \n",
        "    geom_point(aes(colour=avg), size=4) + \n",
        "    viridis::scale_colour_viridis(name=\"Scatter\\n(normalized to beads)\",option =\"D\") +\n",
        "    facet_grid(population ~ .) + \n",
        "    theme_bw() +\n",
        "    xlab(\"Latitude\") + \n",
        "    ylab(\"Depth (m)\")"
      ],
      "outputs": [],
      "execution_count": null,
      "metadata": {
        "collapsed": true,
        "jupyter": {
          "source_hidden": false,
          "outputs_hidden": false
        },
        "nteract": {
          "transient": {
            "deleting": false
          }
        }
      }
    },
    {
      "cell_type": "markdown",
      "source": [
        "#### c. Red fluorescence plots\n",
        "##### i. Red fluorescence depth profile"
      ],
      "metadata": {
        "colab_type": "text",
        "id": "XFGg1mluuR6U",
        "nteract": {
          "transient": {
            "deleting": false
          }
        }
      }
    },
    {
      "cell_type": "code",
      "source": [
        "all %>%\n",
        "    dplyr::filter(population != \"beads\" & population != \"unknown\" & population != \"bacteria\") %>%\n",
        "    dplyr::group_by(lat, depth, population) %>%\n",
        "    dplyr::summarize(avg=log(mean(red))) %>%\n",
        "    ggplot(aes(lat, -depth)) + \n",
        "    geom_point(aes(colour=avg), size=4) + \n",
        "    viridis::scale_colour_viridis(name=\"Log Red fluorescence\\n(normalized to beads)\",option =\"D\") +\n",
        "    facet_grid(population ~ .) + \n",
        "    theme_bw() +\n",
        "    xlab(\"Latitude\") + \n",
        "    ylab(\"Depth (m)\")"
      ],
      "outputs": [],
      "execution_count": null,
      "metadata": {
        "colab": {},
        "colab_type": "code",
        "execution": {
          "iopub.execute_input": "2020-04-05T00:32:03.724Z",
          "iopub.status.busy": "2020-04-05T00:32:03.716Z",
          "iopub.status.idle": "2020-04-05T00:32:04.299Z",
          "shell.execute_reply": "2020-04-05T00:32:04.310Z"
        },
        "id": "iG0BfN9NuR6V",
        "jupyter": {
          "outputs_hidden": false,
          "source_hidden": false
        },
        "nteract": {
          "transient": {
            "deleting": false
          }
        },
        "outputId": "6ad7ee93-e125-4d0a-ed51-6d85174e7e4f"
      }
    },
    {
      "cell_type": "markdown",
      "source": [
        "##### ii. Red fluorescence depth profile (normalized to scatter)"
      ],
      "metadata": {
        "nteract": {
          "transient": {
            "deleting": false
          }
        }
      }
    },
    {
      "cell_type": "code",
      "source": [
        "all %>%\n",
        "    dplyr::filter(population != \"beads\" & population != \"unknown\") %>%\n",
        "    dplyr::group_by(lat, depth, population) %>%\n",
        "    dplyr::summarize(avg=red/scatter) %>%\n",
        "    ggplot(aes(lat, -depth)) + \n",
        "    geom_point(aes(colour=avg), size=4) + \n",
        "    viridis::scale_colour_viridis(name=\"Red fluorescence\\n(normalized to scatter)\",option =\"D\") +\n",
        "    facet_grid(population ~ .) + \n",
        "    theme_bw() +\n",
        "    xlab(\"Latitude\") + \n",
        "    ylab(\"Depth (m)\")"
      ],
      "outputs": [],
      "execution_count": null,
      "metadata": {
        "collapsed": true,
        "jupyter": {
          "source_hidden": false,
          "outputs_hidden": false
        },
        "nteract": {
          "transient": {
            "deleting": false
          }
        }
      }
    },
    {
      "cell_type": "markdown",
      "source": [
        "#### d. Orange fluorescence plots\n",
        "##### i. Orange fluorescence depth profile"
      ],
      "metadata": {
        "nteract": {
          "transient": {
            "deleting": false
          }
        }
      }
    },
    {
      "cell_type": "code",
      "source": [
        "all %>%\n",
        "    dplyr::filter(population != \"beads\" & population != \"unknown\" & population != \"bacteria\") %>%\n",
        "    dplyr::group_by(lat, depth, population) %>%\n",
        "    dplyr::summarize(avg=log(mean(orange))) %>%\n",
        "    ggplot(aes(lat, -depth)) + \n",
        "    geom_point(aes(colour=avg), size=4) + \n",
        "    viridis::scale_colour_viridis(name=\"Log orange fluorescence\\n(normalized to beads)\",option =\"D\") +\n",
        "    facet_grid(population ~ .) + \n",
        "    theme_bw() +\n",
        "    xlab(\"Latitude\") + \n",
        "    ylab(\"Depth (m)\")"
      ],
      "outputs": [],
      "execution_count": null,
      "metadata": {
        "collapsed": false,
        "jupyter": {
          "source_hidden": false,
          "outputs_hidden": false
        },
        "nteract": {
          "transient": {
            "deleting": false
          }
        },
        "execution": {
          "iopub.status.busy": "2020-04-05T00:32:07.444Z",
          "iopub.execute_input": "2020-04-05T00:32:07.449Z",
          "iopub.status.idle": "2020-04-05T00:32:08.131Z",
          "shell.execute_reply": "2020-04-05T00:32:08.142Z"
        }
      }
    },
    {
      "cell_type": "markdown",
      "source": [
        "##### ii. Orange fluorescence depth profile (normalized to scatter)"
      ],
      "metadata": {
        "nteract": {
          "transient": {
            "deleting": false
          }
        }
      }
    },
    {
      "cell_type": "code",
      "source": [
        "all %>%\n",
        "    dplyr::filter(population != \"beads\" & population != \"unknown\") %>%\n",
        "    dplyr::group_by(lat, depth, population) %>%\n",
        "    dplyr::summarize(avg=orange/scatter) %>%\n",
        "    ggplot(aes(lat, -depth)) + \n",
        "    geom_point(aes(colour=avg), size=4) + \n",
        "    viridis::scale_colour_viridis(name=\"Orange fluorescence\\n(normalized to scatter)\",option =\"D\") +\n",
        "    facet_grid(population ~ .) + \n",
        "    theme_bw() +\n",
        "    xlab(\"Latitude\") + \n",
        "    ylab(\"Depth (m)\")"
      ],
      "outputs": [],
      "execution_count": null,
      "metadata": {
        "collapsed": true,
        "jupyter": {
          "source_hidden": false,
          "outputs_hidden": false
        },
        "nteract": {
          "transient": {
            "deleting": false
          }
        }
      }
    },
    {
      "cell_type": "markdown",
      "source": [
        "#### e. Cell size plots\n",
        "##### i. Surface cell size"
      ],
      "metadata": {
        "nteract": {
          "transient": {
            "deleting": false
          }
        }
      }
    },
    {
      "cell_type": "code",
      "source": [
        "all %>%\n",
        "    dplyr::filter(population != \"beads\" & population != \"unknown\" & depth < 20 & flag == 0) %>%\n",
        "    dplyr::group_by(lat, population) %>%\n",
        "    dplyr::summarize(avg=(mean(cell_diameter)),\n",
        "              sd=sd(cell_diameter)) %>%\n",
        "    ggplot(aes(lat, avg, col=population)) +\n",
        "    geom_errorbar(aes(ymin=avg-sd, ymax=avg+sd), color = \"black\",  size = .3, width=.1) +\n",
        "    geom_point(size=2) +\n",
        "    facet_grid(population ~ ., scale=\"free_y\") +\n",
        "    theme_bw() +\n",
        "    ylab(\"Cell size (um)\")"
      ],
      "outputs": [],
      "execution_count": null,
      "metadata": {
        "collapsed": false,
        "jupyter": {
          "source_hidden": false,
          "outputs_hidden": false
        },
        "nteract": {
          "transient": {
            "deleting": false
          }
        },
        "execution": {
          "iopub.status.busy": "2020-04-05T00:32:13.089Z",
          "iopub.execute_input": "2020-04-05T00:32:13.094Z",
          "iopub.status.idle": "2020-04-05T00:32:13.759Z",
          "shell.execute_reply": "2020-04-05T00:32:13.768Z"
        }
      }
    },
    {
      "cell_type": "markdown",
      "source": [
        "##### ii. Cell size depth profile"
      ],
      "metadata": {
        "nteract": {
          "transient": {
            "deleting": false
          }
        }
      }
    },
    {
      "cell_type": "code",
      "source": [
        "all %>%\n",
        "    dplyr::filter(population != \"beads\" & population != \"unknown\") %>%\n",
        "    dplyr::group_by(lat, depth, population) %>%\n",
        "    dplyr::summarize(avg=mean(cell_diameter)) %>%\n",
        "    ggplot(aes(lat, -depth)) + \n",
        "    geom_point(aes(colour=avg), size=4) + \n",
        "    viridis::scale_colour_viridis(name=\"Cell size (um)\",option =\"D\") +\n",
        "    facet_grid(population ~ .) + \n",
        "    theme_bw() +\n",
        "    xlab(\"Latitude\") + \n",
        "    ylab(\"Depth (m)\")"
      ],
      "outputs": [],
      "execution_count": null,
      "metadata": {
        "collapsed": true,
        "jupyter": {
          "source_hidden": false,
          "outputs_hidden": false
        },
        "nteract": {
          "transient": {
            "deleting": false
          }
        }
      }
    },
    {
      "cell_type": "markdown",
      "source": [
        "#### f. Carbon content plots\n",
        "##### i. Surface carbon content"
      ],
      "metadata": {
        "nteract": {
          "transient": {
            "deleting": false
          }
        }
      }
    },
    {
      "cell_type": "code",
      "source": [
        "all %>%\n",
        "    dplyr::filter(population != \"beads\" & population != \"unknown\" & depth < 20 & flag == 0) %>%\n",
        "    dplyr::group_by(lat, population) %>%\n",
        "    dplyr::summarize(avg=(mean(carbon_content)),sd=sd(carbon_content)) %>%\n",
        "    ggplot(aes(lat, avg, col=population)) +\n",
        "    geom_errorbar(aes(ymin=avg-sd, ymax=avg+sd), color = \"black\",  size = .3, width=.1) +\n",
        "    geom_point(size=3.5) +\n",
        "    facet_grid(population ~ ., scale=\"free_y\") +\n",
        "    theme_bw() +\n",
        "    ylab(\"Carbon content (microgram carbon per cell)\")"
      ],
      "outputs": [],
      "execution_count": null,
      "metadata": {
        "collapsed": true,
        "jupyter": {
          "source_hidden": false,
          "outputs_hidden": false
        },
        "nteract": {
          "transient": {
            "deleting": false
          }
        }
      }
    },
    {
      "cell_type": "markdown",
      "source": [
        "##### ii. Carbon content depth profile"
      ],
      "metadata": {
        "nteract": {
          "transient": {
            "deleting": false
          }
        }
      }
    },
    {
      "cell_type": "code",
      "source": [
        "all %>%\n",
        "    dplyr::filter(population != \"beads\" & population != \"unknown\") %>%\n",
        "    dplyr::group_by(lat, depth, population) %>%\n",
        "    dplyr::summarize(avg=(mean(carbon_content))) %>%\n",
        "    ggplot(aes(lat, -depth)) + \n",
        "    geom_point(aes(colour=avg), size=4) + \n",
        "    viridis::scale_colour_viridis(name=\"Carbon content\\n (microgram carbon per cell)\",option =\"D\") +\n",
        "    facet_grid(population ~ .) + \n",
        "    theme_bw() +\n",
        "    xlab(\"Latitude\") + \n",
        "    ylab(\"Depth (m)\")"
      ],
      "outputs": [],
      "execution_count": null,
      "metadata": {
        "collapsed": true,
        "jupyter": {
          "source_hidden": false,
          "outputs_hidden": false
        },
        "nteract": {
          "transient": {
            "deleting": false
          }
        }
      }
    },
    {
      "cell_type": "markdown",
      "source": [
        "#### g. Biomass plots\n",
        "##### i. Surface biomoass"
      ],
      "metadata": {
        "nteract": {
          "transient": {
            "deleting": false
          }
        }
      }
    },
    {
      "cell_type": "code",
      "source": [
        "all %>%\n",
        "    dplyr::filter(population != \"beads\" & population != \"unknown\" & depth < 20 & flag == 0) %>%\n",
        "    dplyr::group_by(lat, population) %>%\n",
        "    dplyr::summarize(avg=(mean(biomass)),sd=sd(biomass)) %>%\n",
        "    ggplot(aes(lat, avg, col=population)) +\n",
        "    geom_errorbar(aes(ymin=avg-sd, ymax=avg+sd), color = \"black\",  size = .3, width=.1) +\n",
        "    geom_point(size=3.5) +\n",
        "    facet_grid(population ~ ., scale=\"free_y\") +\n",
        "    theme_bw() +\n",
        "    ylab(\"Biomass (microgram carbon per liter)\")"
      ],
      "outputs": [],
      "execution_count": null,
      "metadata": {
        "collapsed": true,
        "jupyter": {
          "source_hidden": false,
          "outputs_hidden": false
        },
        "nteract": {
          "transient": {
            "deleting": false
          }
        }
      }
    },
    {
      "cell_type": "markdown",
      "source": [
        "##### ii. Biomass depth profile"
      ],
      "metadata": {
        "nteract": {
          "transient": {
            "deleting": false
          }
        }
      }
    },
    {
      "cell_type": "code",
      "source": [
        "all %>%\n",
        "    dplyr::filter(population != \"beads\" & population != \"unknown\") %>%\n",
        "    dplyr::group_by(lat, depth, population) %>%\n",
        "    dplyr::summarize(avg=(mean(biomass))) %>%\n",
        "    ggplot(aes(lat, -depth)) + \n",
        "    geom_point(aes(colour=avg), size=4) + \n",
        "    viridis::scale_colour_viridis(name=\"Biomass\\n(microgram carbon per liter)\",option =\"D\") +\n",
        "    facet_grid(population ~ .) + \n",
        "    theme_bw() +\n",
        "    xlab(\"Latitude\") + \n",
        "    ylab(\"Depth (m)\")"
      ],
      "outputs": [],
      "execution_count": null,
      "metadata": {
        "collapsed": true,
        "jupyter": {
          "source_hidden": false,
          "outputs_hidden": false
        },
        "nteract": {
          "transient": {
            "deleting": false
          }
        }
      }
    }
  ],
  "metadata": {
    "colab": {
      "name": "plotting.ipynb",
      "provenance": []
    },
    "kernel_info": {
      "name": "ir"
    },
    "kernelspec": {
      "display_name": "R",
      "language": "R",
      "name": "ir"
    },
    "language_info": {
      "name": "R",
      "codemirror_mode": "r",
      "pygments_lexer": "r",
      "mimetype": "text/x-r-source",
      "file_extension": ".r",
      "version": "3.6.0"
    },
    "nteract": {
      "version": "0.25.1"
    }
  },
  "nbformat": 4,
  "nbformat_minor": 1
}
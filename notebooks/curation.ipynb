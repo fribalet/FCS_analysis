{
  "cells": [
    {
      "cell_type": "markdown",
      "source": [
        "### 1. Load data"
      ],
      "metadata": {
        "nteract": {
          "transient": {
            "deleting": false
          }
        },
        "id": "3KLZRfx5uR55",
        "colab_type": "text"
      }
    },
    {
      "cell_type": "code",
      "source": [
        "library(tidyverse)\n",
        "options(repr.plot.width=8, repr.plot.height=6)\n",
        "\n",
        "summary <- read_csv(\"summary.csv\") # load summary data\n",
        "meta <- read_csv(\"metadata.txt\") # load metadata"
      ],
      "outputs": [],
      "execution_count": null,
      "metadata": {
        "execution": {
          "iopub.execute_input": "2020-03-25T18:59:36.373Z",
          "iopub.status.busy": "2020-03-25T18:59:36.364Z",
          "iopub.status.idle": "2020-03-25T18:59:36.404Z",
          "shell.execute_reply": "2020-03-25T18:59:36.409Z"
        },
        "jupyter": {
          "outputs_hidden": false,
          "source_hidden": false
        },
        "nteract": {
          "transient": {
            "deleting": false
          }
        },
        "id": "1qaXTKVJuR58",
        "colab_type": "code",
        "colab": {
          "base_uri": "https://localhost:8080/",
          "height": 453
        },
        "outputId": "2b2c5320-bc84-47b2-bf9f-16193b95f01c",
        "executionInfo": {
          "status": "error",
          "timestamp": 1585157079613,
          "user_tz": 420,
          "elapsed": 2004,
          "user": {
            "displayName": "Francois Ribalet",
            "photoUrl": "https://lh3.googleusercontent.com/a-/AOh14Gg7LmzpHo58DLH4zkaee2AfxvqClKqqQU8SXRx9jA=s64",
            "userId": "05121062961591501580"
          }
        }
      }
    },
    {
      "cell_type": "markdown",
      "source": [
        "### 2. Convert metadata"
      ],
      "metadata": {
        "nteract": {
          "transient": {
            "deleting": false
          }
        },
        "id": "D1n4D1SeuR6B",
        "colab_type": "text"
      }
    },
    {
      "cell_type": "code",
      "source": [
        "meta[1:3,] # print the first few lines to know how to parse metadata"
      ],
      "outputs": [],
      "execution_count": null,
      "metadata": {
        "collapsed": false,
        "jupyter": {
          "source_hidden": false,
          "outputs_hidden": false
        },
        "nteract": {
          "transient": {
            "deleting": false
          }
        }
      }
    },
    {
      "cell_type": "code",
      "source": [
        "# add required columns (filename, volume and comments) from metadata\n",
        "file <- paste0(meta$sample,\".fcs\") # format  sample name to filename (.fcs)\n",
        "volume <- meta$volume\n",
        "comments <- meta$comments\n",
        "flag <- meta$flag\n",
        "\n",
        "# add required metadata for CMAP\n",
        "time <- as.POSIXct(meta$date, format=\"%d/%b/%y\", tz=\"UTC\") \n",
        "lat <- NA\n",
        "lon <- NA\n",
        "\n",
        "# add key information from sample label\n",
        "label <- matrix(unlist(list(strsplit(meta$label, split=\" \"))), ncol=3, byrow=T) \n",
        "treatment <- label[,1]\n",
        "timepoint <- label[,2]\n",
        "replicate <- label[,3]\n",
        "\n",
        "# create new metadata\n",
        "metadata <- tibble(file, time, lat, lon, volume, treatment, timepoint, replicate, comments, flag)"
      ],
      "outputs": [],
      "execution_count": null,
      "metadata": {
        "execution": {
          "iopub.execute_input": "2020-03-25T18:59:39.941Z",
          "iopub.status.busy": "2020-03-25T18:59:39.936Z",
          "iopub.status.idle": "2020-03-25T18:59:39.951Z",
          "shell.execute_reply": "2020-03-25T18:59:39.957Z"
        },
        "jupyter": {
          "outputs_hidden": false,
          "source_hidden": false
        },
        "nteract": {
          "transient": {
            "deleting": false
          }
        },
        "id": "xTd1dG_9uR6C",
        "colab_type": "code",
        "colab": {}
      }
    },
    {
      "cell_type": "markdown",
      "source": [
        "### 3. Add metadata to summary data"
      ],
      "metadata": {
        "nteract": {
          "transient": {
            "deleting": false
          }
        },
        "id": "K5XZPcQGuR6G",
        "colab_type": "text"
      }
    },
    {
      "cell_type": "code",
      "source": [
        "all <- merge(summary, metadata, by=\"file\")\n",
        "\n",
        "all$abundance <- all$count / all$volume # calculate cell abundance (cells/microliter)"
      ],
      "outputs": [],
      "execution_count": null,
      "metadata": {
        "collapsed": false,
        "jupyter": {
          "source_hidden": false,
          "outputs_hidden": false
        },
        "nteract": {
          "transient": {
            "deleting": false
          }
        },
        "execution": {
          "iopub.status.busy": "2020-03-25T18:59:43.055Z",
          "iopub.execute_input": "2020-03-25T18:59:43.063Z",
          "iopub.status.idle": "2020-03-25T18:59:43.071Z",
          "shell.execute_reply": "2020-03-25T18:59:43.081Z"
        }
      }
    },
    {
      "cell_type": "markdown",
      "source": [
        "### 4. Plotting\n",
        "#### a. Abundance"
      ],
      "metadata": {
        "nteract": {
          "transient": {
            "deleting": false
          }
        },
        "id": "y8w-JjRbuR6K",
        "colab_type": "text"
      }
    },
    {
      "cell_type": "code",
      "source": [
        "all %>%\n",
        "    filter(population != \"unknown\" & population != \"beads\") %>%\n",
        "    group_by(timepoint, population, treatment) %>%\n",
        "    summarize(sd = sd(abundance),\n",
        "              avg=mean(abundance)) %>%\n",
        "    ggplot(aes(timepoint, avg, group=treatment, col=treatment)) +\n",
        "    geom_point(size=3) +\n",
        "    geom_line() +\n",
        "    geom_linerange(aes(ymin=avg-sd, ymax=avg+sd)) +\n",
        "    facet_grid(population ~ ., scale=\"free_y\") + \n",
        "    theme_bw() +\n",
        "    ylab(\"Abundance (cells uL-1)\")"
      ],
      "outputs": [],
      "execution_count": null,
      "metadata": {
        "execution": {
          "iopub.execute_input": "2020-03-25T18:59:52.863Z",
          "iopub.status.busy": "2020-03-25T18:59:52.855Z",
          "iopub.status.idle": "2020-03-25T18:59:53.294Z",
          "shell.execute_reply": "2020-03-25T18:59:53.312Z"
        },
        "jupyter": {
          "outputs_hidden": false,
          "source_hidden": false
        },
        "nteract": {
          "transient": {
            "deleting": false
          }
        },
        "id": "Ba2-Ep4juR6L",
        "colab_type": "code",
        "colab": {},
        "outputId": "b2d72570-6df6-415b-863f-8c79b8928390"
      }
    },
    {
      "cell_type": "markdown",
      "source": [
        "#### b. Scatter"
      ],
      "metadata": {
        "nteract": {
          "transient": {
            "deleting": false
          }
        },
        "id": "pvc4ePAHuR6P",
        "colab_type": "text"
      }
    },
    {
      "cell_type": "code",
      "source": [
        "all %>%\n",
        "    filter(population != \"unknown\" & population != \"beads\") %>%\n",
        "    group_by(timepoint, population, treatment) %>%\n",
        "    summarize(sd = sd(scatter),\n",
        "              avg=mean(scatter)) %>%\n",
        "    ggplot(aes(timepoint, avg, group=treatment, col=treatment)) +\n",
        "    geom_linerange(aes(ymin=avg-sd, ymax=avg+sd)) +\n",
        "    geom_point(size=3) +\n",
        "    geom_line() +\n",
        "    facet_grid(population ~ ., scale=\"free_y\") + \n",
        "    theme_bw() +\n",
        "    ylab(\"Scatter (normalized to beads)\")"
      ],
      "outputs": [],
      "execution_count": null,
      "metadata": {
        "execution": {
          "iopub.execute_input": "2020-03-25T18:46:41.431Z",
          "iopub.status.busy": "2020-03-25T18:46:41.425Z",
          "iopub.status.idle": "2020-03-25T18:46:41.851Z",
          "shell.execute_reply": "2020-03-25T18:46:41.862Z"
        },
        "jupyter": {
          "outputs_hidden": false,
          "source_hidden": false
        },
        "nteract": {
          "transient": {
            "deleting": false
          }
        },
        "id": "5yTaY8equR6Q",
        "colab_type": "code",
        "colab": {},
        "outputId": "d32c04f6-5fb5-497d-8d3d-a36216931cb0"
      }
    },
    {
      "cell_type": "markdown",
      "source": [
        "#### c. Red fluorescence"
      ],
      "metadata": {
        "nteract": {
          "transient": {
            "deleting": false
          }
        },
        "id": "XFGg1mluuR6U",
        "colab_type": "text"
      }
    },
    {
      "cell_type": "code",
      "source": [
        "all %>%\n",
        "    filter(population != \"unknown\" & population != \"beads\") %>%\n",
        "    group_by(timepoint, population, treatment) %>%\n",
        "    summarize(sd = sd(red),\n",
        "              avg=mean(red)) %>%\n",
        "    ggplot(aes(timepoint, avg, group=treatment, col=treatment)) +\n",
        "    geom_linerange(aes(ymin=avg-sd, ymax=avg+sd)) +\n",
        "    geom_point(size=3) +\n",
        "    geom_line() +\n",
        "    facet_grid(population ~ ., scale=\"free_y\") + \n",
        "    theme_bw() +\n",
        "    ylab(\"Red fluo (normalized to beads)\")"
      ],
      "outputs": [],
      "execution_count": null,
      "metadata": {
        "execution": {
          "iopub.execute_input": "2020-03-25T18:46:45.046Z",
          "iopub.status.busy": "2020-03-25T18:46:45.038Z",
          "iopub.status.idle": "2020-03-25T18:46:45.499Z",
          "shell.execute_reply": "2020-03-25T18:46:45.509Z"
        },
        "jupyter": {
          "outputs_hidden": false,
          "source_hidden": false
        },
        "nteract": {
          "transient": {
            "deleting": false
          }
        },
        "id": "iG0BfN9NuR6V",
        "colab_type": "code",
        "colab": {},
        "outputId": "6ad7ee93-e125-4d0a-ed51-6d85174e7e4f"
      }
    },
    {
      "cell_type": "markdown",
      "source": [
        "### 5. Save data"
      ],
      "metadata": {
        "nteract": {
          "transient": {
            "deleting": false
          }
        }
      }
    },
    {
      "cell_type": "code",
      "source": [
        "library(FCSplankton)\n",
        "library(openxlsx)\n",
        "\n",
        "project <- basename(getwd())\n",
        "cruise <- \"KM1906\" # set to NA if samples were not collected during a cruise\n",
        "\n",
        "xls_convert(data=all, project, cruise, version = \"v1.0\")"
      ],
      "outputs": [],
      "execution_count": null,
      "metadata": {
        "collapsed": false,
        "jupyter": {
          "source_hidden": false,
          "outputs_hidden": false
        },
        "nteract": {
          "transient": {
            "deleting": false
          }
        },
        "execution": {
          "iopub.status.busy": "2020-03-25T21:16:27.654Z",
          "iopub.execute_input": "2020-03-25T21:16:27.661Z",
          "shell.execute_reply": "2020-03-25T21:16:27.810Z",
          "iopub.status.idle": "2020-03-25T21:16:27.818Z"
        }
      }
    }
  ],
  "metadata": {
    "kernel_info": {
      "name": "ir"
    },
    "kernelspec": {
      "display_name": "R",
      "language": "R",
      "name": "ir"
    },
    "language_info": {
      "name": "R",
      "codemirror_mode": "r",
      "pygments_lexer": "r",
      "mimetype": "text/x-r-source",
      "file_extension": ".r",
      "version": "3.6.0"
    },
    "nteract": {
      "version": "0.23.3"
    },
    "colab": {
      "name": "plotting.ipynb",
      "provenance": []
    }
  },
  "nbformat": 4,
  "nbformat_minor": 0
}
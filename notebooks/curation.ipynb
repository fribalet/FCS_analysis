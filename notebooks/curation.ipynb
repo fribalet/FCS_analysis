{
  "cells": [
    {
      "cell_type": "markdown",
      "source": [
        "### 1. Load data"
      ],
      "metadata": {
        "colab_type": "text",
        "id": "3KLZRfx5uR55",
        "nteract": {
          "transient": {
            "deleting": false
          }
        }
      }
    },
    {
      "cell_type": "code",
      "source": [
        "library(tidyverse)\n",
        "library(FCSplankton)\n",
        "library(openxlsx)"
      ],
      "outputs": [],
      "execution_count": null,
      "metadata": {
        "collapsed": true,
        "jupyter": {
          "source_hidden": false,
          "outputs_hidden": false
        },
        "nteract": {
          "transient": {
            "deleting": false
          }
        }
      }
    },
    {
      "cell_type": "code",
      "source": [
        "options(repr.plot.width=8, repr.plot.height=6)\n",
        "\n",
        "unstained <- FALSE # TRUE if samples were not stained, TRUE if samples have been stained\n",
        "\n",
        "if(unstained){\n",
        "    summary <- read_csv(\"./unstained/summary.csv\")\n",
        "}else{\n",
        "    stained_summary_all <- read_csv(\"./stained/summary.csv\") # load summary data\n",
        "    stained_summary <- dplyr::filter(stained_summary_all, stained_summary_all$population == \"bacteria\")\n",
        "    unstained_summary <- read_csv(\"./unstained/summary.csv\")}\n",
        "\n",
        "meta <- read_csv(\"metadata.txt\",col_types = cols(date = col_character())) "
      ],
      "outputs": [],
      "execution_count": null,
      "metadata": {
        "colab": {
          "base_uri": "https://localhost:8080/",
          "height": 453
        },
        "colab_type": "code",
        "execution": {
          "iopub.execute_input": "2020-07-09T21:21:55.670Z",
          "iopub.status.busy": "2020-07-09T21:21:55.664Z",
          "iopub.status.idle": "2020-07-09T21:21:55.697Z",
          "shell.execute_reply": "2020-07-09T21:21:55.882Z"
        },
        "executionInfo": {
          "elapsed": 2004,
          "status": "error",
          "timestamp": 1585157079613,
          "user": {
            "displayName": "Francois Ribalet",
            "photoUrl": "https://lh3.googleusercontent.com/a-/AOh14Gg7LmzpHo58DLH4zkaee2AfxvqClKqqQU8SXRx9jA=s64",
            "userId": "05121062961591501580"
          },
          "user_tz": 420
        },
        "id": "1qaXTKVJuR58",
        "jupyter": {
          "outputs_hidden": false,
          "source_hidden": false
        },
        "nteract": {
          "transient": {
            "deleting": false
          }
        },
        "outputId": "2b2c5320-bc84-47b2-bf9f-16193b95f01c"
      }
    },
    {
      "cell_type": "code",
      "source": [
        "if(unstained == FALSE){\n",
        "  summary <- merge(unstained_summary, stained_summary, all=TRUE)\n",
        "  summary[1:3,]\n",
        "}"
      ],
      "outputs": [],
      "execution_count": null,
      "metadata": {
        "collapsed": true,
        "jupyter": {
          "source_hidden": false,
          "outputs_hidden": false
        },
        "nteract": {
          "transient": {
            "deleting": false
          }
        },
        "execution": {
          "iopub.status.busy": "2020-07-09T21:21:55.790Z",
          "iopub.execute_input": "2020-07-09T21:21:55.799Z",
          "shell.execute_reply": "2020-07-09T21:21:55.895Z",
          "iopub.status.idle": "2020-07-09T21:21:55.816Z"
        }
      }
    },
    {
      "cell_type": "markdown",
      "source": [
        "### 2. Convert metadata"
      ],
      "metadata": {
        "colab_type": "text",
        "id": "D1n4D1SeuR6B",
        "nteract": {
          "transient": {
            "deleting": false
          }
        }
      }
    },
    {
      "cell_type": "code",
      "source": [
        "meta[1:3,] # print the first few lines to know how to parse metadata"
      ],
      "outputs": [],
      "execution_count": null,
      "metadata": {
        "jupyter": {
          "outputs_hidden": false,
          "source_hidden": false
        },
        "nteract": {
          "transient": {
            "deleting": false
          }
        },
        "execution": {
          "iopub.status.busy": "2020-07-09T21:21:55.710Z",
          "iopub.execute_input": "2020-07-09T21:21:55.718Z",
          "iopub.status.idle": "2020-07-09T21:21:55.741Z",
          "shell.execute_reply": "2020-07-09T21:21:55.886Z"
        }
      }
    },
    {
      "cell_type": "code",
      "source": [
        "# add required columns (filename, volume and comments) from metadata\n",
        "file <- paste0(meta$file,\".fcs\") # format  sample name to filename (.fcs)\n",
        "time <- meta$date\n",
        "lat <- meta$lat\n",
        "lon <- meta$lon\n",
        "depth <- meta$depth\n",
        "replicate <- meta$replicate\n",
        "volume <- meta$volume\n",
        "stain <- meta$stain\n",
        "flag <- meta$flag\n",
        "comments <- meta$comments\n",
        "\n",
        "# add required metadata for CMAP\n",
        "# time <- as.POSIXct(meta$date, format=\"%d/%b/%y\", tz=\"UTC\") \n",
        "# lat <- NA\n",
        "# lon <- NA\n",
        "\n",
        "# add key information from sample label\n",
        "# label <- matrix(unlist(list(strsplit(meta$label, split=\" \"))), ncol=3, byrow=T) \n",
        "# treatment <- label[,1]\n",
        "# timepoint <- label[,2]\n",
        "# replicate <- label[,3]\n",
        "\n",
        "# create new metadata\n",
        "metadata <- tibble(file, time, lat, lon, depth, replicate, volume, stain, flag, comments)"
      ],
      "outputs": [],
      "execution_count": null,
      "metadata": {
        "colab": {},
        "colab_type": "code",
        "execution": {
          "iopub.execute_input": "2020-07-09T21:21:55.763Z",
          "iopub.status.busy": "2020-07-09T21:21:55.754Z",
          "iopub.status.idle": "2020-07-09T21:21:55.777Z",
          "shell.execute_reply": "2020-07-09T21:21:55.892Z"
        },
        "id": "xTd1dG_9uR6C",
        "jupyter": {
          "outputs_hidden": false,
          "source_hidden": false
        },
        "nteract": {
          "transient": {
            "deleting": false
          }
        }
      }
    },
    {
      "cell_type": "markdown",
      "source": [
        "### 3. Size and carbon content conversion"
      ],
      "metadata": {
        "nteract": {
          "transient": {
            "deleting": false
          }
        }
      }
    },
    {
      "cell_type": "code",
      "source": [
        "mie <- read.csv(system.file(\"scatter\", paste0(\"calibrated-mieINFLUX.csv\"),package=\"FCSplankton\"))\n",
        "\n",
        "# find closest matches in Mie lookup table\n",
        "id <- findInterval(summary$scatter, mie$scatter)\n",
        "\n",
        "  for(i in 1:length(id)){\n",
        "      summary$diam_mid[[i]] <- mie[id[i],2]\n",
        "      summary$diam_upr[[i]] <- mie[id[i],3]\n",
        "      summary$diam_lwr[[i]] <- mie[id[i],4]\n",
        "      summary$Qc_mid[[i]] <- mie[id[i],5]\n",
        "      summary$Qc_upr[[i]] <- mie[id[i],6]\n",
        "      summary$Qc_lwr[[i]] <- mie[id[i],7]\n",
        "    }\n",
        "\n",
        "summary[1:3,]"
      ],
      "outputs": [],
      "execution_count": null,
      "metadata": {
        "collapsed": true,
        "jupyter": {
          "source_hidden": false,
          "outputs_hidden": false
        },
        "nteract": {
          "transient": {
            "deleting": false
          }
        }
      }
    },
    {
      "cell_type": "markdown",
      "source": [
        "### 4. Merge metadata and summary data\n"
      ],
      "metadata": {
        "colab_type": "text",
        "id": "K5XZPcQGuR6G",
        "nteract": {
          "transient": {
            "deleting": false
          }
        }
      }
    },
    {
      "cell_type": "code",
      "source": [
        "all <- merge(summary, metadata, by=\"file\")\n",
        "all[1:3,]"
      ],
      "outputs": [],
      "execution_count": null,
      "metadata": {
        "execution": {
          "iopub.execute_input": "2020-07-09T21:21:55.833Z",
          "iopub.status.busy": "2020-07-09T21:21:55.827Z",
          "iopub.status.idle": "2020-07-09T21:21:55.853Z",
          "shell.execute_reply": "2020-07-09T21:21:55.900Z"
        },
        "jupyter": {
          "outputs_hidden": false,
          "source_hidden": false
        },
        "nteract": {
          "transient": {
            "deleting": false
          }
        }
      }
    },
    {
      "cell_type": "markdown",
      "source": [
        "### 5. Calculate abundance\n",
        "#### a. Check abundance"
      ],
      "metadata": {
        "nteract": {
          "transient": {
            "deleting": false
          }
        }
      }
    },
    {
      "cell_type": "code",
      "source": [
        "all$abundance <- all$count / all$volume\n",
        "all[1:3,]"
      ],
      "outputs": [],
      "execution_count": null,
      "metadata": {
        "collapsed": true,
        "jupyter": {
          "source_hidden": false,
          "outputs_hidden": false
        },
        "nteract": {
          "transient": {
            "deleting": false
          }
        }
      }
    },
    {
      "cell_type": "code",
      "source": [
        "all %>%\n",
        "    dplyr::filter(population != \"beads\") %>%\n",
        "    ggplot(aes(abundance, -depth, col=population)) + \n",
        "    geom_point() + \n",
        "    facet_grid(population ~ lat, scale=\"free_x\") + \n",
        "    theme_bw() +\n",
        "    xlab(\"Abundance (cells uL-1)\") + \n",
        "    ylab(\"Depth (m)\")"
      ],
      "outputs": [],
      "execution_count": null,
      "metadata": {
        "collapsed": true,
        "jupyter": {
          "source_hidden": false,
          "outputs_hidden": false
        },
        "nteract": {
          "transient": {
            "deleting": false
          }
        },
        "execution": {
          "iopub.status.busy": "2020-07-09T21:21:55.866Z",
          "iopub.execute_input": "2020-07-09T21:21:55.874Z",
          "iopub.status.idle": "2020-07-09T21:21:57.339Z",
          "shell.execute_reply": "2020-07-09T21:21:57.454Z"
        }
      }
    },
    {
      "cell_type": "markdown",
      "source": [
        "#### b. Calculate corrected abundances"
      ],
      "metadata": {
        "nteract": {
          "transient": {
            "deleting": false
          }
        }
      }
    },
    {
      "cell_type": "code",
      "source": [
        "new.all <- all\n",
        "\n",
        "if(unstained == FALSE){\n",
        "\n",
        "  pro <- subset(all, population == \"prochloro\")\n",
        "  bact <- subset(all, population == \"bacteria\")\n",
        "\n",
        "  for (i in 1:nrow(pro)){\n",
        "    file_number <- regmatches(pro$file[i], regexpr(pattern = \"[0-9].*fcs\" , text = pro$file[i]))  # removes prefix from the current file so the stained and unstained files will be identical\n",
        "    matching_file_id <- grep(file_number, bact$file) # find the file in stained samples that matches the file number\n",
        "    id <- which(all$file == bact$file[matching_file_id] & all$population == \"bacteria\") # return the index of the file that matches the Pro file numbner\n",
        "    if(length(id) !=0) new.all$abundance[id] <- all$abundance[id] - pro$abundance[i]\n",
        "  }\n",
        "}\n",
        "\n",
        "new.all[1:3,]"
      ],
      "outputs": [],
      "execution_count": null,
      "metadata": {
        "collapsed": true,
        "jupyter": {
          "source_hidden": false,
          "outputs_hidden": false
        },
        "nteract": {
          "transient": {
            "deleting": false
          }
        },
        "execution": {
          "iopub.status.busy": "2020-07-09T21:26:49.194Z",
          "iopub.execute_input": "2020-07-09T21:26:49.204Z",
          "iopub.status.idle": "2020-07-09T21:26:49.247Z",
          "shell.execute_reply": "2020-07-09T21:26:49.277Z"
        }
      }
    },
    {
      "cell_type": "markdown",
      "source": [
        "#### c. Check new abundance"
      ],
      "metadata": {
        "nteract": {
          "transient": {
            "deleting": false
          }
        }
      }
    },
    {
      "cell_type": "code",
      "source": [
        "new.all %>%\n",
        "    dplyr::filter(population != \"beads\") %>%\n",
        "    ggplot(aes(abundance, -depth, col=population)) + \n",
        "    geom_point() + \n",
        "    facet_grid(population ~ lat, scale=\"free_x\") + \n",
        "    theme_bw() +\n",
        "    xlab(\"Abundance (cells uL-1)\") + \n",
        "    ylab(\"Depth (m)\")"
      ],
      "outputs": [],
      "execution_count": null,
      "metadata": {
        "collapsed": true,
        "jupyter": {
          "source_hidden": false,
          "outputs_hidden": false
        },
        "nteract": {
          "transient": {
            "deleting": false
          }
        },
        "execution": {
          "iopub.status.busy": "2020-07-09T21:26:53.430Z",
          "iopub.execute_input": "2020-07-09T21:26:53.444Z",
          "iopub.status.idle": "2020-07-09T21:26:54.624Z",
          "shell.execute_reply": "2020-07-09T21:26:54.639Z"
        }
      }
    },
    {
      "cell_type": "markdown",
      "source": [
        "### 6. Plotting\n",
        "#### a. Surface abundance"
      ],
      "metadata": {
        "colab_type": "text",
        "id": "y8w-JjRbuR6K",
        "nteract": {
          "transient": {
            "deleting": false
          }
        }
      }
    },
    {
      "cell_type": "code",
      "source": [
        "new.all %>%\n",
        "    dplyr::filter(population != \"beads\" & population != \"unknown\" & depth < 20) %>%\n",
        "    group_by(lat, population) %>%\n",
        "    summarize(sd = sd(abundance),\n",
        "              avg=mean(abundance)) %>%\n",
        "    ggplot(aes(lat, avg, col=population)) +\n",
        "    geom_point(size=3) +\n",
        "    geom_linerange(aes(ymin=avg-sd, ymax=avg+sd)) +\n",
        "    facet_grid(population ~ ., scale=\"free_y\") + \n",
        "    theme_bw() +\n",
        "    ylab(\"Abundance (cells uL-1)\")\n",
        " ggsave(\"surface_abundance.png\", path = \"./plots\")"
      ],
      "outputs": [],
      "execution_count": null,
      "metadata": {
        "colab": {},
        "colab_type": "code",
        "execution": {
          "iopub.execute_input": "2020-07-09T21:37:15.153Z",
          "iopub.status.busy": "2020-07-09T21:37:15.139Z",
          "iopub.status.idle": "2020-07-09T21:37:15.676Z",
          "shell.execute_reply": "2020-07-09T21:37:15.699Z"
        },
        "id": "Ba2-Ep4juR6L",
        "jupyter": {
          "outputs_hidden": false,
          "source_hidden": false
        },
        "nteract": {
          "transient": {
            "deleting": false
          }
        },
        "outputId": "b2d72570-6df6-415b-863f-8c79b8928390"
      }
    },
    {
      "cell_type": "markdown",
      "source": [
        "#### b. Abundance depth profile"
      ],
      "metadata": {
        "nteract": {
          "transient": {
            "deleting": false
          }
        }
      }
    },
    {
      "cell_type": "code",
      "source": [
        "new.all %>%\n",
        "    dplyr::filter(population != \"beads\" & population != \"unknown\") %>%\n",
        "    group_by(lat, depth, population) %>%\n",
        "    summarize(avg=mean(abundance)) %>%\n",
        "    ggplot(aes(lat, -depth)) + \n",
        "    geom_point(aes(colour=avg), size=4) + \n",
        "    viridis::scale_colour_viridis(name=\"Abundance (cells uL-1)\",option =\"D\") +\n",
        "    facet_grid(population ~ .) + \n",
        "    theme_bw() +\n",
        "    xlab(\"Latitude\") + \n",
        "    ylab(\"Depth (m)\")\n",
        " ggsave(\"abundance_depth_profile.png\", path = \"./plots\")"
      ],
      "outputs": [],
      "execution_count": null,
      "metadata": {
        "collapsed": true,
        "jupyter": {
          "source_hidden": false,
          "outputs_hidden": false
        },
        "nteract": {
          "transient": {
            "deleting": false
          }
        },
        "execution": {
          "iopub.status.busy": "2020-07-09T21:38:53.526Z",
          "iopub.execute_input": "2020-07-09T21:38:53.537Z",
          "iopub.status.idle": "2020-07-09T21:38:54.031Z",
          "shell.execute_reply": "2020-07-09T21:38:54.054Z"
        }
      }
    },
    {
      "cell_type": "markdown",
      "source": [
        "#### c. Scatter depth profile"
      ],
      "metadata": {
        "colab_type": "text",
        "id": "pvc4ePAHuR6P",
        "nteract": {
          "transient": {
            "deleting": false
          }
        }
      }
    },
    {
      "cell_type": "code",
      "source": [
        "new.all %>%\n",
        "    dplyr::filter(population != \"beads\" & population != \"unknown\") %>%\n",
        "    group_by(lat, depth, population) %>%\n",
        "    summarize(avg=log(mean(scatter))) %>%\n",
        "    ggplot(aes(lat, -depth)) + \n",
        "    geom_point(aes(colour=avg), size=4) + \n",
        "    viridis::scale_colour_viridis(name=\"Log Scatter (normalized to beads)\",option =\"D\") +\n",
        "    facet_grid(population ~ .) + \n",
        "    theme_bw() +\n",
        "    xlab(\"Latitude\") + \n",
        "    ylab(\"Depth (m)\")"
      ],
      "outputs": [],
      "execution_count": null,
      "metadata": {
        "colab": {},
        "colab_type": "code",
        "execution": {
          "iopub.execute_input": "2020-07-09T21:39:17.644Z",
          "iopub.status.busy": "2020-07-09T21:39:17.633Z",
          "iopub.status.idle": "2020-07-09T21:39:18.140Z",
          "shell.execute_reply": "2020-07-09T21:39:18.158Z"
        },
        "id": "5yTaY8equR6Q",
        "jupyter": {
          "outputs_hidden": false,
          "source_hidden": false
        },
        "nteract": {
          "transient": {
            "deleting": false
          }
        },
        "outputId": "d32c04f6-5fb5-497d-8d3d-a36216931cb0"
      }
    },
    {
      "cell_type": "markdown",
      "source": [
        "#### d. Red fluorescence depth profile"
      ],
      "metadata": {
        "colab_type": "text",
        "id": "XFGg1mluuR6U",
        "nteract": {
          "transient": {
            "deleting": false
          }
        }
      }
    },
    {
      "cell_type": "code",
      "source": [
        "new.all %>%\n",
        "    dplyr::filter(population != \"beads\" & population != \"unknown\" & population != \"bacteria\") %>%\n",
        "    group_by(lat, depth, population) %>%\n",
        "    summarize(avg=log(mean(red))) %>%\n",
        "    ggplot(aes(lat, -depth)) + \n",
        "    geom_point(aes(colour=avg), size=4) + \n",
        "    viridis::scale_colour_viridis(name=\"Log Red fluorescence (normalized to beads)\",option =\"D\") +\n",
        "    facet_grid(population ~ .) + \n",
        "    theme_bw() +\n",
        "    xlab(\"Latitude\") + \n",
        "    ylab(\"Depth (m)\")"
      ],
      "outputs": [],
      "execution_count": null,
      "metadata": {
        "colab": {},
        "colab_type": "code",
        "execution": {
          "iopub.execute_input": "2020-07-09T21:39:45.639Z",
          "iopub.status.busy": "2020-07-09T21:39:45.626Z",
          "iopub.status.idle": "2020-07-09T21:39:46.023Z",
          "shell.execute_reply": "2020-07-09T21:39:46.048Z"
        },
        "id": "iG0BfN9NuR6V",
        "jupyter": {
          "outputs_hidden": false,
          "source_hidden": false
        },
        "nteract": {
          "transient": {
            "deleting": false
          }
        },
        "outputId": "6ad7ee93-e125-4d0a-ed51-6d85174e7e4f"
      }
    },
    {
      "cell_type": "markdown",
      "source": [
        "#### e. Cell size profiles\n",
        "##### i. Cell size depth profile"
      ],
      "metadata": {
        "nteract": {
          "transient": {
            "deleting": false
          }
        }
      }
    },
    {
      "cell_type": "code",
      "source": [
        "new.all %>%\n",
        "    dplyr::filter(population != \"beads\" & population != \"unknown\") %>%\n",
        "    group_by(lat, depth, population) %>%\n",
        "    summarize(avg=mean(diam_mid)) %>%\n",
        "    ggplot(aes(lat, -depth)) + \n",
        "    geom_point(aes(colour=avg), size=5) + \n",
        "    viridis::scale_colour_viridis(name=\"Equivalent spherical diameter\\nusing mid refractive index\\n(micrometer)\",option =\"D\") +\n",
        "    facet_grid(population ~ .) + \n",
        "    theme_bw() +\n",
        "    xlab(\"Latitude\") + \n",
        "    ylab(\"Depth (m)\")\n",
        " ggsave(\"cell_size_depth_profile.png\", path = \"./plots\")"
      ],
      "outputs": [],
      "execution_count": null,
      "metadata": {
        "collapsed": true,
        "jupyter": {
          "source_hidden": false,
          "outputs_hidden": false
        },
        "nteract": {
          "transient": {
            "deleting": false
          }
        }
      }
    },
    {
      "cell_type": "markdown",
      "source": [
        "##### ii. Surface cell size estimate range using different indexes of refraction"
      ],
      "metadata": {
        "nteract": {
          "transient": {
            "deleting": false
          }
        }
      }
    },
    {
      "cell_type": "code",
      "source": [
        "new.all %>%\n",
        "    dplyr::filter(population != \"beads\" & population != \"unknown\" & depth < 20 & flag == 0) %>%\n",
        "    group_by(lat, population) %>%\n",
        "    summarize(avg=(mean(diam_mid)),\n",
        "              avg_lwr=mean(diam_lwr),\n",
        "              avg_upr=mean(diam_upr)) %>%\n",
        "    ggplot(aes(lat, avg, col=population)) +\n",
        "    geom_point(size=2) +\n",
        "    geom_linerange(aes(ymin=avg_lwr, ymax=avg_upr)) +\n",
        "    facet_grid(population ~ ., scale=\"free_y\") +\n",
        "    theme_bw() +\n",
        "    ylab(\"Cell size (um)\")\n",
        " ggsave(\"surface_cell_size_RI_range.png\", path = \"./plots\")"
      ],
      "outputs": [],
      "execution_count": null,
      "metadata": {
        "collapsed": true,
        "jupyter": {
          "source_hidden": false,
          "outputs_hidden": false
        },
        "nteract": {
          "transient": {
            "deleting": false
          }
        }
      }
    },
    {
      "cell_type": "markdown",
      "source": [
        "##### iii. Surface (>20m) cell size profile using a single, specific index of refraction for each population"
      ],
      "metadata": {
        "nteract": {
          "transient": {
            "deleting": false
          }
        }
      }
    },
    {
      "cell_type": "code",
      "source": [
        "# select specific refractive indexes for each populations\n",
        "lwr <- new.all %>%\n",
        "      dplyr::filter(population == \"prochloro\" | population == \"bacteria\") %>%\n",
        "      dplyr::select(-diam_mid, -diam_upr, -Qc_mid, -Qc_upr) %>%\n",
        "      dplyr::rename(cell_diameter = diam_lwr, carbon_content = Qc_lwr)\n",
        "\n",
        "mid <- new.all %>%\n",
        "      dplyr::filter(population == \"synecho\" | population == \"picoeuk\" | population == \"unknown\" | population == \"beads\" | population == \"croco\") %>%\n",
        "      dplyr::select(-diam_lwr, -diam_upr, -Qc_lwr, -Qc_upr) %>%\n",
        "      dplyr::rename(cell_diameter = diam_mid, carbon_content = Qc_mid)\n",
        "\n",
        "RI.all <- merge(lwr, mid, all = TRUE)"
      ],
      "outputs": [],
      "execution_count": null,
      "metadata": {
        "collapsed": true,
        "jupyter": {
          "source_hidden": false,
          "outputs_hidden": false
        },
        "nteract": {
          "transient": {
            "deleting": false
          }
        }
      }
    },
    {
      "cell_type": "code",
      "source": [
        "RI.all %>%\n",
        "      dplyr::filter(population != \"beads\" & population != \"unknown\" & depth < 20 & flag == 0) %>%\n",
        "    group_by(lat, population, project) %>%\n",
        "    summarize(avg=(mean(cell_diameter)),\n",
        "              sd=sd(cell_diameter)) %>%\n",
        "    ggplot(aes(lat, avg, col=population)) +\n",
        "    geom_errorbar(aes(ymin=avg-sd, ymax=avg+sd), color = \"black\",  size = .3, width=.7) +\n",
        "    geom_point(size=2) +\n",
        "    facet_grid(population ~ ., scale=\"free_y\") +\n",
        "    theme_bw() +\n",
        "    ylab(\"Cell size (um)\")\n",
        " ggsave(\"surface_cell_size.png\", path = \"./plots\")"
      ],
      "outputs": [],
      "execution_count": null,
      "metadata": {
        "collapsed": true,
        "jupyter": {
          "source_hidden": false,
          "outputs_hidden": false
        },
        "nteract": {
          "transient": {
            "deleting": false
          }
        }
      }
    },
    {
      "cell_type": "markdown",
      "source": [
        "#### f. Carbon content profiles\n",
        "##### i. Carbon content depth profiles"
      ],
      "metadata": {
        "nteract": {
          "transient": {
            "deleting": false
          }
        }
      }
    },
    {
      "cell_type": "code",
      "source": [
        "new.all %>%\n",
        "    dplyr::filter(population != \"beads\" & population != \"unknown\") %>%\n",
        "    group_by(lat, depth, population) %>%\n",
        "    summarize(avg=(mean(Qc_mid))) %>%\n",
        "    ggplot(aes(lat, -depth)) + \n",
        "    geom_point(aes(colour=avg), size=5) + \n",
        "    viridis::scale_colour_viridis(name=\"Cellular carbon content\\nusing high refractive index\\n(picogram carbon per cell)\",option =\"D\") +\n",
        "    facet_grid(population ~ .) + \n",
        "    theme_bw() +\n",
        "    xlab(\"Latitude\") + \n",
        "    ylab(\"Depth (m)\")\n",
        " ggsave(\"carbon_content_depth_profile.png\", path = \"./plots\")"
      ],
      "outputs": [],
      "execution_count": null,
      "metadata": {
        "collapsed": true,
        "jupyter": {
          "source_hidden": false,
          "outputs_hidden": false
        },
        "nteract": {
          "transient": {
            "deleting": false
          }
        }
      }
    },
    {
      "cell_type": "markdown",
      "source": [
        "##### ii. Surface carbon content estimate range using different indexes of refraction"
      ],
      "metadata": {
        "nteract": {
          "transient": {
            "deleting": false
          }
        }
      }
    },
    {
      "cell_type": "code",
      "source": [
        "new.all %>%\n",
        "    dplyr::filter(population != \"beads\" & population != \"unknown\" & depth < 20 & flag == 0) %>%\n",
        "    group_by(lat, population) %>%\n",
        "    summarize(avg=(mean(Qc_mid)),\n",
        "              avg_lwr=mean(Qc_lwr),\n",
        "              avg_upr=mean(Qc_upr)) %>%\n",
        "    ggplot(aes(lat, avg, col=population)) +\n",
        "    geom_point(size=2) +\n",
        "    geom_linerange(aes(ymin=avg_lwr, ymax=avg_upr)) +\n",
        "    facet_grid(population ~ ., scale=\"free_y\") +\n",
        "    theme_bw() +\n",
        "    ylab(\"Carbon content (picogram carbon per cell)\")\n",
        " ggsave(\"surface_carbon_content_RI_range.png\", path = \"./plots\")"
      ],
      "outputs": [],
      "execution_count": null,
      "metadata": {
        "collapsed": true,
        "jupyter": {
          "source_hidden": false,
          "outputs_hidden": false
        },
        "nteract": {
          "transient": {
            "deleting": false
          }
        }
      }
    },
    {
      "cell_type": "markdown",
      "source": [
        "##### iii. Surface (>20m) carbon content profile using a single, specific index of refraction for each population"
      ],
      "metadata": {
        "nteract": {
          "transient": {
            "deleting": false
          }
        }
      }
    },
    {
      "cell_type": "code",
      "source": [
        "RI.all %>%\n",
        "    dplyr::filter(population != \"beads\" & population != \"unknown\" & depth < 20 & flag == 0) %>%\n",
        "    group_by(lat, population) %>%\n",
        "    summarize(avg=(mean(carbon_content)),sd=sd(carbon_content)) %>%\n",
        "    ggplot(aes(lat, avg, col=population)) +\n",
        "    geom_errorbar(aes(ymin=avg-sd, ymax=avg+sd), color = \"black\",  size = .3, width=.1) +\n",
        "    geom_point(size=2) +\n",
        "    facet_grid(population ~ ., scale=\"free_y\") +\n",
        "    theme_bw() +\n",
        "    ylab(\"Carbon content (picogram carbon per cell)\")\n",
        " ggsave(\"surface_carbon_content.png\", path = \"./plots\")"
      ],
      "outputs": [],
      "execution_count": null,
      "metadata": {
        "collapsed": true,
        "jupyter": {
          "source_hidden": false,
          "outputs_hidden": false
        },
        "nteract": {
          "transient": {
            "deleting": false
          }
        }
      }
    },
    {
      "cell_type": "markdown",
      "source": [
        "#### g. Total biomass"
      ],
      "metadata": {
        "nteract": {
          "transient": {
            "deleting": false
          }
        }
      }
    },
    {
      "cell_type": "code",
      "source": [
        "biomass.all <- RI.all \n",
        "biomass.all$biomass <- biomass.all$abundance * biomass.all$carbon_content\n",
        "\n",
        "biomass.all %>%\n",
        "      dplyr::filter(population != \"beads\" & population != \"unknown\" & depth == 15)  %>%\n",
        "    group_by(lat, population) %>%\n",
        "    summarize(avg=(mean(biomass))) %>%\n",
        "    ggplot(aes(fill = population, x = lat, y = avg)) +\n",
        "    geom_bar(position= \"stack\", stat = \"identity\", width=.1, color=\"black\", size = .2) +\n",
        "    ylab(\"Total biomass (picogram carbon per liter)\")\n",
        " ggsave(\"total_biomass.png\", path = \"./plots\")"
      ],
      "outputs": [],
      "execution_count": null,
      "metadata": {
        "collapsed": true,
        "jupyter": {
          "source_hidden": false,
          "outputs_hidden": false
        },
        "nteract": {
          "transient": {
            "deleting": false
          }
        }
      }
    },
    {
      "cell_type": "markdown",
      "source": [
        "### 7. Save data"
      ],
      "metadata": {
        "nteract": {
          "transient": {
            "deleting": false
          }
        }
      }
    },
    {
      "cell_type": "code",
      "source": [
        "project <- basename(getwd())\n",
        "cruise <- \"MGL1704\" # Cruise ID (ex. KM1906); leave blank if samples were not collected during a cruise\n",
        "cruise_nickname <- \"Gradients 2\" # Cruise nickname commonly referred to (ex. Gradients 2 or Gradients 2017); leave blank if samples were not collected during a cruise\n",
        "\n",
        "cmap_convert(data = new.all , cruise, cruise_nickname, project, version = \"v1.0\")"
      ],
      "outputs": [],
      "execution_count": null,
      "metadata": {
        "execution": {
          "iopub.execute_input": "2020-07-09T21:22:00.179Z",
          "iopub.status.busy": "2020-07-09T21:22:00.171Z",
          "iopub.status.idle": "2020-07-09T21:22:01.449Z",
          "shell.execute_reply": "2020-07-09T21:22:01.435Z"
        },
        "jupyter": {
          "outputs_hidden": false,
          "source_hidden": false
        },
        "nteract": {
          "transient": {
            "deleting": false
          }
        }
      }
    }
  ],
  "metadata": {
    "colab": {
      "name": "plotting.ipynb",
      "provenance": []
    },
    "kernel_info": {
      "name": "ir"
    },
    "kernelspec": {
      "display_name": "R",
      "language": "R",
      "name": "ir"
    },
    "language_info": {
      "name": "R",
      "codemirror_mode": "r",
      "pygments_lexer": "r",
      "mimetype": "text/x-r-source",
      "file_extension": ".r",
      "version": "3.6.3"
    },
    "nteract": {
      "version": "0.24.1"
    }
  },
  "nbformat": 4,
  "nbformat_minor": 1
}